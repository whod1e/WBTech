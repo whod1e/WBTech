{
 "cells": [
  {
   "attachments": {},
   "cell_type": "markdown",
   "metadata": {},
   "source": [
    "\n",
    "<h1>Задание 1</h1>\n",
    "\n",
    "У вас есть небольшой искусственный датасет: https://www.kaggle.com/datasets/iamsouravbanerjee/customer-shopping-trends-dataset/data   \n",
    "\n",
    "<h2>Задание 1.1</h2>\n",
    "\n",
    "На основании этих данных необходимо составить максимальное(но не менее пяти) количество гипотез о корреляциях между отдельными столбцами и проверить их. \n",
    "\n",
    "При этом при составлении гипотез можно рассматривать не полный df, а именно выборки (например: \"женщины старше 40 лет покупают в основном осенью\")"
   ]
  },
  {
   "cell_type": "code",
   "execution_count": null,
   "metadata": {},
   "outputs": [],
   "source": [
    "import pandas as pd\n",
    "import numpy as np\n",
    "import matplotlib.pyplot as plt\n",
    "import plotly.express as px\n",
    "import plotly.graph_objects as go\n",
    "import seaborn as sns"
   ]
  },
  {
   "cell_type": "code",
   "execution_count": null,
   "metadata": {},
   "outputs": [],
   "source": [
    "data = pd.read_csv(\"shopping_trends_updated.csv\")\n",
    "df = data.copy()\n",
    "df.head(5)"
   ]
  },
  {
   "cell_type": "code",
   "execution_count": null,
   "metadata": {},
   "outputs": [],
   "source": [
    "df.info()"
   ]
  },
  {
   "cell_type": "code",
   "execution_count": null,
   "metadata": {},
   "outputs": [],
   "source": [
    "df.describe()"
   ]
  },
  {
   "cell_type": "markdown",
   "metadata": {},
   "source": [
    "Такс, я хочу разбить покупателей на возрастные категории, чтобы было удобнее генерить гипотезы\n",
    "Разобью так:\n",
    "- 18-24 - обычно студенты, не имеют собственного дохода\n",
    "- 25-34 - молодые специалисты, многие с устойчивым доходом\n",
    "- 35-44 - имеют более высокий доход, обычно есть семья, дети\n",
    "- 45-54 - обычно уже не так часто следят за трендами, обновляют гардероб\n",
    "- 55-70 - покупатели предпенсионного и пенсионного возраста"
   ]
  },
  {
   "cell_type": "code",
   "execution_count": null,
   "metadata": {},
   "outputs": [],
   "source": [
    "def define_age_group(age):\n",
    "    if 18 <= age <= 24:\n",
    "        return '18-24'\n",
    "    elif 25 <= age <= 34:\n",
    "        return '25-34'\n",
    "    elif 35 <= age <= 44:\n",
    "        return '35-44'\n",
    "    elif 45 <= age <= 54:\n",
    "        return '45-54'\n",
    "    elif 55 <= age <= 70:\n",
    "        return '55-70'"
   ]
  },
  {
   "cell_type": "code",
   "execution_count": null,
   "metadata": {},
   "outputs": [],
   "source": [
    "df['age_group'] = df['Age'].apply(define_age_group)"
   ]
  },
  {
   "cell_type": "code",
   "execution_count": null,
   "metadata": {},
   "outputs": [],
   "source": [
    "df.head()"
   ]
  },
  {
   "cell_type": "code",
   "execution_count": null,
   "metadata": {},
   "outputs": [],
   "source": [
    "df.describe(include = 'object')"
   ]
  },
  {
   "cell_type": "code",
   "execution_count": null,
   "metadata": {},
   "outputs": [],
   "source": [
    "df['Location'].unique()"
   ]
  },
  {
   "cell_type": "code",
   "execution_count": null,
   "metadata": {},
   "outputs": [],
   "source": [
    "df['Category'].unique()"
   ]
  },
  {
   "cell_type": "code",
   "execution_count": null,
   "metadata": {},
   "outputs": [],
   "source": [
    "df['Size'].unique()"
   ]
  },
  {
   "cell_type": "code",
   "execution_count": null,
   "metadata": {},
   "outputs": [],
   "source": [
    "df['Color'].unique()"
   ]
  },
  {
   "cell_type": "markdown",
   "metadata": {},
   "source": [
    "### Мои гипотезы\n",
    "1. В среднем покупки зимой в категории \"Одежда\" дороже \n",
    "2. Покупки категории \"Верхняя одежда\" чаще всего происходят зимой, а реже всего летом\n",
    "3. Люди моложе 30 чаще других возрастных групп оплачивают через PayPal\n",
    "4. В среднем покупки, совершаемые через дебетовые банковские карты, дороже\n",
    "5. Мужчины 35-44 чаще всего покупают одежду осенью (так как нужно готовить детей к школе)\n",
    "6. Бежевая одежда в среднем дороже (из-за бездарных трендов инстаграмма)\n",
    "7. Женщины 25-34 покупают более дорогие аксесуары\n",
    "8. Люди с подпиской делают покупки чаще\n",
    "9. Если была применена скидка, стоимость покупки выше"
   ]
  },
  {
   "cell_type": "markdown",
   "metadata": {},
   "source": [
    "**Чекнем первую гипотезу: В среднем покупки зимой в категории \"Одежда\" дороже**"
   ]
  },
  {
   "cell_type": "code",
   "execution_count": null,
   "metadata": {},
   "outputs": [],
   "source": [
    "df[df['Category'] == 'Clothing'].groupby('Season')['Purchase Amount (USD)'].agg(['min', 'max', 'mean', 'median'])"
   ]
  },
  {
   "cell_type": "markdown",
   "metadata": {},
   "source": [
    "Если судить по медиане, то да, но по средней на третьем месте, так что все таки нет. Зато точно можем сказать, летом самые дешевые покупки"
   ]
  },
  {
   "cell_type": "markdown",
   "metadata": {},
   "source": [
    "**Чекнем вторую гипотезу: Покупки категории \"Верхняя одежда\" чаще всего происходят зимой, а реже всего летом**"
   ]
  },
  {
   "cell_type": "code",
   "execution_count": null,
   "metadata": {},
   "outputs": [],
   "source": [
    "df[df['Category'] == 'Outerwear']['Season'].value_counts(normalize = True)"
   ]
  },
  {
   "cell_type": "markdown",
   "metadata": {},
   "source": [
    "Неа, чаще всего осенью и понятно почему. Все закупают зимнюю верхнюю одежду именно осенью + покупают там иногда что-то осеннее, странно почему я сразу это не понял))"
   ]
  },
  {
   "cell_type": "markdown",
   "metadata": {},
   "source": [
    "**Чекнем третью гипотезу: Люди моложе 18-24 чаще других возрастных групп оплачивают через PayPal**"
   ]
  },
  {
   "cell_type": "code",
   "execution_count": null,
   "metadata": {},
   "outputs": [],
   "source": [
    "df[df['Payment Method'] == 'PayPal']['age_group'].value_counts(normalize = 'True')"
   ]
  },
  {
   "cell_type": "markdown",
   "metadata": {},
   "source": [
    "Нет, у нас оказывается супер продвинутые люди преклонного возраста, горжусь ими!))"
   ]
  },
  {
   "cell_type": "markdown",
   "metadata": {},
   "source": [
    "**Чекнем четвертую гипотезу: В среднем покупки, совершаемые через дебетовые банковские карты, дороже**"
   ]
  },
  {
   "cell_type": "code",
   "execution_count": null,
   "metadata": {},
   "outputs": [],
   "source": [
    "df.groupby('Payment Method')['Purchase Amount (USD)'].agg(['min', 'max', 'mean', 'median'])"
   ]
  },
  {
   "cell_type": "markdown",
   "metadata": {},
   "source": [
    "Да, так и есть!"
   ]
  },
  {
   "cell_type": "markdown",
   "metadata": {},
   "source": [
    "**Чекнем пятую гипотезу: Мужчины 35-44 чаще всего покупают одежду осенью**"
   ]
  },
  {
   "cell_type": "code",
   "execution_count": null,
   "metadata": {},
   "outputs": [],
   "source": [
    "df[(df['age_group'] == '35-44') & (df['Category'] == 'Clothing')]['Season'].value_counts(normalize = True)"
   ]
  },
  {
   "cell_type": "markdown",
   "metadata": {},
   "source": [
    "Да, и вправду, мужчины 35-44 чаще всего покупают одежду осенью"
   ]
  },
  {
   "cell_type": "markdown",
   "metadata": {},
   "source": [
    "**Чекнем шестую гипотезу: Бежевая одежда в среднем дороже**"
   ]
  },
  {
   "cell_type": "code",
   "execution_count": null,
   "metadata": {},
   "outputs": [],
   "source": [
    "df[df['Category'] == 'Clothing'].groupby('Color')['Purchase Amount (USD)'].agg(['min', 'max', 'mean', 'median']).sort_values(by = ['mean'], ascending = False)"
   ]
  },
  {
   "cell_type": "markdown",
   "metadata": {},
   "source": [
    "К счастью, это неправда, самый дорогой цвет - зеленый"
   ]
  },
  {
   "cell_type": "markdown",
   "metadata": {},
   "source": [
    "**Чекнем седьмую гипотезу: Женщины 25-34 покупают более дорогие аксесуары**"
   ]
  },
  {
   "cell_type": "code",
   "execution_count": null,
   "metadata": {},
   "outputs": [],
   "source": [
    "df[df['Category'] == 'Accessories'].groupby('age_group')['Purchase Amount (USD)'].agg(['min', 'max', 'mean', 'median']).sort_values(by = ['mean'], ascending = False)"
   ]
  },
  {
   "cell_type": "markdown",
   "metadata": {},
   "source": [
    "Неа, они наоборот покупают практически самые дешевые акссесуары, самые дорогие покупают 18-24"
   ]
  },
  {
   "cell_type": "code",
   "execution_count": null,
   "metadata": {},
   "outputs": [],
   "source": [
    "def to_days(freq):\n",
    "    if freq == 'Weekly':\n",
    "        return 7\n",
    "    elif freq == 'Bi-Weekly':\n",
    "        return 14\n",
    "    elif freq == 'Monthly':\n",
    "        return 30\n",
    "    elif freq == 'Quarterly':\n",
    "        return 90\n",
    "    elif freq == 'Every 3 Months':\n",
    "        return 120\n",
    "    else:\n",
    "        return 360"
   ]
  },
  {
   "cell_type": "code",
   "execution_count": null,
   "metadata": {},
   "outputs": [],
   "source": [
    "df['Frequency of Purchases in days'] =  df['Frequency of Purchases'].apply(to_days)"
   ]
  },
  {
   "cell_type": "markdown",
   "metadata": {},
   "source": [
    "**Чекнем 8 гипотезу: люди с подпиской делают покупки чаще**"
   ]
  },
  {
   "cell_type": "code",
   "execution_count": null,
   "metadata": {},
   "outputs": [],
   "source": [
    "subscription_purchase_frequency = df.groupby('Subscription Status')['Frequency of Purchases in days'].agg(['mean','median'])\n",
    "subscription_purchase_frequency_result = subscription_purchase_frequency.reset_index()\n",
    "subscription_purchase_frequency_result.columns = ['Subscription Status', 'Average Purchase Frequency', 'Median Purchase Frequency']\n",
    "subscription_purchase_frequency_result\n"
   ]
  },
  {
   "cell_type": "markdown",
   "metadata": {},
   "source": [
    "Супер странно, но в среднем люди без подписки покупают чаще"
   ]
  },
  {
   "cell_type": "markdown",
   "metadata": {},
   "source": [
    "**Чекнем 9 гипотезу: если была применена скидка, стоимость покупки выше**"
   ]
  },
  {
   "cell_type": "code",
   "execution_count": null,
   "metadata": {},
   "outputs": [],
   "source": [
    "discount_purchase_amount = data.groupby('Discount Applied')['Purchase Amount (USD)'].agg(['mean','median'])\n",
    "discount_purchase_amount = discount_purchase_amount.reset_index()\n",
    "discount_purchase_amount.columns = ['Discount Applied', 'Average Purchase Amount (USD)', 'Mean Purchase Amount (USD)']\n",
    "discount_purchase_amount"
   ]
  },
  {
   "cell_type": "markdown",
   "metadata": {},
   "source": [
    "Нет, люди, которые не применяли скидку, покупают в среднем совершают более дорогие покупки, хотя разницы почти нет"
   ]
  },
  {
   "cell_type": "markdown",
   "metadata": {},
   "source": [
    "<h2>Задание 1.2</h2>"
   ]
  },
  {
   "cell_type": "markdown",
   "metadata": {},
   "source": [
    "Помимо гипотез:\n",
    "* найдите самый популярный товар\n",
    "* постройте распределение покупателей по полу\n",
    "* определите, какой пол (и отдельно возраст) покупает больше всего, чаще всего, самые дорогие товары\n",
    "* определите, есть ли зависимость между цветом одежды и сезоном.\n",
    "* посчитайте наш сезонный mau (уникальных пользователей за сезон) и его динамику.\n",
    "* найдите самую популярную букву в названии одежды. "
   ]
  },
  {
   "cell_type": "code",
   "execution_count": null,
   "metadata": {},
   "outputs": [],
   "source": [
    "df['Item Purchased'].value_counts()"
   ]
  },
  {
   "cell_type": "markdown",
   "metadata": {},
   "source": [
    "**Cамые популярные товары - Blouse, Jewelry, Pants (171 покупка)**"
   ]
  },
  {
   "cell_type": "code",
   "execution_count": null,
   "metadata": {},
   "outputs": [],
   "source": [
    "df.info()"
   ]
  },
  {
   "cell_type": "code",
   "execution_count": null,
   "metadata": {},
   "outputs": [],
   "source": [
    "df_gender_count = df.groupby('Gender')['Gender'].value_counts().reset_index()\n",
    "fig = px.bar(df_gender_count, \n",
    "             x = 'Gender', y = 'count', \n",
    "             color = 'Gender', \n",
    "             color_discrete_map = {'Female': 'rgb(253, 131,244)', 'Male': 'rgb(74, 112,252)'})\n",
    "\n",
    "fig.update_layout(\n",
    "    title_text = 'Распределение пользователей по полу',\n",
    "    title_x = 0.5,\n",
    "    xaxis_title = 'Пол',\n",
    "    yaxis_title = 'Кол-во пользователей'\n",
    ")"
   ]
  },
  {
   "cell_type": "markdown",
   "metadata": {},
   "source": [
    "**Определите, какой пол (и отдельно возраст) покупает больше всего, чаще всего, самые дорогие товары**"
   ]
  },
  {
   "cell_type": "code",
   "execution_count": null,
   "metadata": {},
   "outputs": [],
   "source": [
    "gender_frequency_purchases = (df.groupby(['Gender','Frequency of Purchases'])['Customer ID'].count() \n",
    "                              / df.groupby('Gender')['Customer ID'].count()).reset_index().rename(columns = {'Customer ID':'Share of users'})\n",
    "gender_frequency_purchases = gender_frequency_purchases[gender_frequency_purchases['Frequency of Purchases'] != 'Fortnightly']\n",
    "\n",
    "frequency_order = [\"Weekly\", \"Bi-Weekly\", \"Monthly\", \"Quarterly\", \"Every 3 Months\", \"Annually\"]\n",
    "gender_frequency_purchases['Frequency of Purchases'] = pd.Categorical(gender_frequency_purchases['Frequency of Purchases'], \n",
    "                                                                      categories = frequency_order,\n",
    "                                                                      ordered = True)\n",
    "fig = px.bar(gender_frequency_purchases,\n",
    "             x='Frequency of Purchases', \n",
    "             y='Share of users', \n",
    "             color='Gender',\n",
    "             color_discrete_map = ({'Female': 'rgb(253, 131,244)', 'Male': 'rgb(74, 112,252)'}),\n",
    "             barmode='group', \n",
    "             category_orders={'Frequency of Purchases': frequency_order}) \n",
    "\n",
    "fig.update_layout(\n",
    "    title=\"Распределение частоты покупок по полу\",\n",
    "    title_x = 0.5,\n",
    "    xaxis_title=\"Частота покупок\",\n",
    "    yaxis_title=\"Доля пользователей\",\n",
    ")"
   ]
  },
  {
   "cell_type": "markdown",
   "metadata": {},
   "source": [
    "Можно сделать так, добавить еще один столбец - частота покупок в днях, чтобы можно было посчитать среднее и медиану и сравнить"
   ]
  },
  {
   "cell_type": "code",
   "execution_count": null,
   "metadata": {},
   "outputs": [],
   "source": [
    "df.groupby('Gender')['Frequency of Purchases in days'].agg(['mean', 'median'])"
   ]
  },
  {
   "cell_type": "markdown",
   "metadata": {},
   "source": [
    "**По гистограмме и по среднему видно, что женщины совершают покупке немного чаще**"
   ]
  },
  {
   "cell_type": "code",
   "execution_count": null,
   "metadata": {},
   "outputs": [],
   "source": [
    "df.groupby('age_group')['Frequency of Purchases in days'].agg(['mean', 'median']).sort_values(by = 'mean', ascending = True).reset_index()"
   ]
  },
  {
   "cell_type": "markdown",
   "metadata": {},
   "source": [
    "**Чаще всего покупают люди возрастной группы от 45 до 54 лет**"
   ]
  },
  {
   "cell_type": "code",
   "execution_count": null,
   "metadata": {},
   "outputs": [],
   "source": [
    "df.head(2)"
   ]
  },
  {
   "cell_type": "code",
   "execution_count": null,
   "metadata": {},
   "outputs": [],
   "source": [
    "df.groupby('Gender')['Previous Purchases'].sum()"
   ]
  },
  {
   "cell_type": "markdown",
   "metadata": {},
   "source": [
    "**Больше заказов делают мужчины**"
   ]
  },
  {
   "cell_type": "code",
   "execution_count": null,
   "metadata": {},
   "outputs": [],
   "source": [
    "df.groupby('age_group')['Previous Purchases'].sum()"
   ]
  },
  {
   "cell_type": "markdown",
   "metadata": {},
   "source": [
    "**Больше всего заказов делают люди от 55 до 70 лет**"
   ]
  },
  {
   "cell_type": "code",
   "execution_count": null,
   "metadata": {},
   "outputs": [],
   "source": [
    "df.groupby('Gender')['Purchase Amount (USD)'].agg(['mean', 'median','min','max'])"
   ]
  },
  {
   "cell_type": "markdown",
   "metadata": {},
   "source": [
    "**Женщины в среднем делают более дорогие заказы**"
   ]
  },
  {
   "cell_type": "code",
   "execution_count": null,
   "metadata": {},
   "outputs": [],
   "source": [
    "df.groupby('age_group')['Purchase Amount (USD)'].agg(['mean', 'median','min','max']).sort_values(by = 'mean', ascending = False)"
   ]
  },
  {
   "cell_type": "markdown",
   "metadata": {},
   "source": [
    "**Люди от 45 до 54 лет делают в среднем самые дорогие заказы**"
   ]
  },
  {
   "cell_type": "markdown",
   "metadata": {},
   "source": [
    "**- Определите, есть ли зависимость между цветом одежды и сезоном.**"
   ]
  },
  {
   "cell_type": "code",
   "execution_count": null,
   "metadata": {},
   "outputs": [],
   "source": [
    "color_season_crosstab = pd.crosstab(\n",
    "    df[df['Category'] == 'Clothing']['Color'],  \n",
    "    df[df['Category'] == 'Clothing']['Season']  \n",
    ")\n",
    "color_season_crosstab"
   ]
  },
  {
   "cell_type": "markdown",
   "metadata": {},
   "source": [
    "Так как цветов слишком много, думаю что визуализации будут не совсем понятны. Предлагаю сделать стат тест проверки независимости категориальных переменных с помощью scipy.stats.chi2_contingency, уровень значимости возьмем 0.05\n"
   ]
  },
  {
   "cell_type": "code",
   "execution_count": null,
   "metadata": {},
   "outputs": [],
   "source": [
    "from scipy.stats import chi2_contingency\n",
    "chi2, p, dof, expected = chi2_contingency(color_season_crosstab)\n",
    "analysis_results = {\n",
    "    \"Chi2 Statistic\": chi2,\n",
    "    \"p-value\": p,\n",
    "    \"Degrees of Freedom\": dof,\n",
    "}\n",
    "print(analysis_results)\n",
    "if p > 0.05:\n",
    "    print('Отсутствет статистически значимая зависимость между цветом одежды и сезоном.')\n",
    "else:\n",
    "    print('Имеется статистически значимая зависимость между цветом одежды и сезоном.')"
   ]
  },
  {
   "cell_type": "markdown",
   "metadata": {},
   "source": [
    "**Зависимость между цветом одежды и сезоном отсутствует**"
   ]
  },
  {
   "cell_type": "markdown",
   "metadata": {},
   "source": [
    "- посчитайте наш сезонный mau (уникальных пользователей за сезон) и его динамику."
   ]
  },
  {
   "cell_type": "markdown",
   "metadata": {},
   "source": [
    "Так, за первый сезон будем считать зиму"
   ]
  },
  {
   "cell_type": "code",
   "execution_count": null,
   "metadata": {},
   "outputs": [],
   "source": [
    "seasonal_mau = df.groupby('Season')['Customer ID'].nunique().reset_index().rename(columns = {'Customer ID':'MAU'})\n",
    "season_order = [\"Winter\", \"Spring\", \"Summer\", \"Fall\"]\n",
    "seasonal_mau['Season'] = pd.Categorical(seasonal_mau['Season'], categories=season_order, ordered=True)\n",
    "seasonal_mau = seasonal_mau.sort_values('Season').reset_index(drop=True)\n",
    "seasonal_mau['MAU change, %']= seasonal_mau['MAU'].pct_change() * 100\n",
    "\n",
    "seasonal_mau\n"
   ]
  },
  {
   "cell_type": "code",
   "execution_count": null,
   "metadata": {},
   "outputs": [],
   "source": [
    "fig = px.line(seasonal_mau, x = 'Season', y = 'MAU')\n",
    "fig.update_layout(\n",
    "    title=\"Динамика MAU по сезонам\",\n",
    "    title_x = 0.5,\n",
    "    xaxis_title=\"Season\",\n",
    "    yaxis_title=\"MAU\",\n",
    ")"
   ]
  },
  {
   "cell_type": "markdown",
   "metadata": {},
   "source": [
    "- **найдите самую популярную букву в названии одежды.**"
   ]
  },
  {
   "cell_type": "code",
   "execution_count": null,
   "metadata": {},
   "outputs": [],
   "source": [
    "from collections import Counter\n",
    "\n",
    "clothing_names = df[df['Category'] == 'Clothing']['Item Purchased'].dropna().str.lower()\n",
    "letter_counts = Counter(\"\".join(clothing_names))\n",
    "\n",
    "letter_counts = {k: v for k, v in letter_counts.items() if k.isalpha()}\n",
    "most_common_letter = max(letter_counts, key=letter_counts.get)\n",
    "most_common_letter_count = letter_counts[most_common_letter]\n",
    "\n",
    "print(f'Самая популярная буква в названии одежды - \"{most_common_letter}\". Ее частота - {most_common_letter_count}')"
   ]
  },
  {
   "cell_type": "markdown",
   "metadata": {},
   "source": [
    "<h1>Задание 2</h1> \n",
    "\n",
    "У нас есть данные о потреблении алкоголя в мире https://github.com/fivethirtyeight/data/tree/master/alcohol-consumption. \n",
    "\n",
    "Загрузите их и изучите, где же люди пьют больше вина, пива и других спиртных напитков."
   ]
  },
  {
   "cell_type": "code",
   "execution_count": null,
   "metadata": {},
   "outputs": [],
   "source": [
    "data_alcohol = pd.read_csv(\"drinks.csv\")"
   ]
  },
  {
   "cell_type": "code",
   "execution_count": null,
   "metadata": {},
   "outputs": [],
   "source": [
    "df_alcohol = data_alcohol.copy()"
   ]
  },
  {
   "cell_type": "code",
   "execution_count": null,
   "metadata": {},
   "outputs": [],
   "source": [
    "df_alcohol.head()"
   ]
  },
  {
   "cell_type": "code",
   "execution_count": null,
   "metadata": {},
   "outputs": [],
   "source": [
    "df_alcohol.info()"
   ]
  },
  {
   "cell_type": "code",
   "execution_count": null,
   "metadata": {},
   "outputs": [],
   "source": [
    "df_alcohol.describe()"
   ]
  },
  {
   "cell_type": "markdown",
   "metadata": {},
   "source": [
    "Давайте посмотрим на страны, которые вообще не пьют"
   ]
  },
  {
   "cell_type": "code",
   "execution_count": null,
   "metadata": {},
   "outputs": [],
   "source": [
    "df_alcohol[df_alcohol['total_litres_of_pure_alcohol'] == 0]"
   ]
  },
  {
   "cell_type": "code",
   "execution_count": null,
   "metadata": {},
   "outputs": [],
   "source": [
    "count_countries = df_alcohol['country'].count()\n",
    "not_drinking_countries = df_alcohol[df_alcohol['total_litres_of_pure_alcohol'] == 0]['country'].count()\n",
    "share_not_drinking_countries = round(not_drinking_countries / count_countries*100,2) \n",
    "print(f\"Всего {not_drinking_countries} не пьющих стран из {count_countries}, что составляет {share_not_drinking_countries}%\")"
   ]
  },
  {
   "cell_type": "code",
   "execution_count": null,
   "metadata": {},
   "outputs": [],
   "source": [
    "df_alcohol.sort_values(by = 'total_litres_of_pure_alcohol', ascending = False)"
   ]
  },
  {
   "cell_type": "markdown",
   "metadata": {},
   "source": [
    "### Посмотрим на распределения потребления алкоголя"
   ]
  },
  {
   "cell_type": "code",
   "execution_count": null,
   "metadata": {},
   "outputs": [],
   "source": [
    "fig, axes = plt.subplots(2,2, figsize = (15,7))\n",
    "\n",
    "axes[0, 0].hist(df_alcohol['beer_servings'], bins=20, color='yellow', alpha=0.7)\n",
    "axes[0, 0].set_title(\n",
    "    'Распределение потребления условных порций пива на душу населения',\n",
    "    fontdict = {'fontsize': 10} )\n",
    "\n",
    "axes[0, 1].hist(df_alcohol['wine_servings'], bins=20, color='purple', alpha=0.7)\n",
    "axes[0, 1].set_title(\n",
    "    'Распределение потребления условных порций вина на душу населения',\n",
    "    fontdict = {'fontsize': 10} )\n",
    "\n",
    "axes[1, 0].hist(df_alcohol['spirit_servings'], bins=20, color='red', alpha=0.7)\n",
    "axes[1, 0].set_title(\n",
    "    'Распределение потребления условных порций крепкого алкоголя на душу населения',\n",
    "    fontdict = {'fontsize': 10})\n",
    "\n",
    "axes[1, 1].hist(df_alcohol['total_litres_of_pure_alcohol'], bins=20, color='blue', alpha=0.7)\n",
    "axes[1, 1].set_title(\n",
    "    'Распределение потребления литров чистого спирта на душу населения',\n",
    "    fontdict = {'fontsize': 10});"
   ]
  },
  {
   "cell_type": "code",
   "execution_count": null,
   "metadata": {},
   "outputs": [],
   "source": [
    "plt.figure(figsize=(10, 6))\n",
    "plt.boxplot(df_alcohol[['beer_servings','wine_servings', 'spirit_servings']].values, \n",
    "            labels=df_alcohol[['beer_servings','wine_servings', 'spirit_servings']].columns)\n",
    "plt.ylabel('Условных порций на душу населения')\n",
    "plt.grid(axis='y')\n",
    "plt.show()"
   ]
  },
  {
   "cell_type": "code",
   "execution_count": null,
   "metadata": {},
   "outputs": [],
   "source": [
    "plt.figure(figsize=(10, 6))\n",
    "plt.boxplot(df_alcohol[['total_litres_of_pure_alcohol']].values, \n",
    "            labels=df_alcohol[['total_litres_of_pure_alcohol']].columns)\n",
    "plt.ylabel('Литров на душу населения')\n",
    "plt.grid(axis='y')\n",
    "plt.show()\n"
   ]
  },
  {
   "cell_type": "markdown",
   "metadata": {},
   "source": [
    "### Проанализируем страны по потреблению чистого спирта"
   ]
  },
  {
   "cell_type": "code",
   "execution_count": null,
   "metadata": {},
   "outputs": [],
   "source": [
    "df_alcohol['share_beer_servings, %'] = df_alcohol['beer_servings'] / df_alcohol['beer_servings'].sum() * 100\n",
    "df_alcohol['share_spirit_servings, %'] = df_alcohol['spirit_servings'] / df_alcohol['spirit_servings'].sum() * 100\n",
    "df_alcohol['share_wine_servings, %'] = df_alcohol['wine_servings'] / df_alcohol['wine_servings'].sum() * 100\n",
    "df_alcohol['share_pure_alchocol, %'] = df_alcohol['total_litres_of_pure_alcohol'] / df_alcohol['total_litres_of_pure_alcohol'].sum() * 100\n",
    "df_alcohol.head(5)"
   ]
  },
  {
   "cell_type": "markdown",
   "metadata": {},
   "source": [
    "#### Топ-10 стран по употреблению чистого алкоголя"
   ]
  },
  {
   "cell_type": "code",
   "execution_count": null,
   "metadata": {},
   "outputs": [],
   "source": [
    "top_pure = df_alcohol[['country', 'total_litres_of_pure_alcohol', 'share_pure_alchocol, %']] \\\n",
    "    .sort_values(by='total_litres_of_pure_alcohol', ascending=False) \\\n",
    "    .reset_index(drop=True)\n",
    "top_pure.head(10)"
   ]
  },
  {
   "cell_type": "code",
   "execution_count": null,
   "metadata": {},
   "outputs": [],
   "source": [
    "def place(place_russia):\n",
    "    if place_russia <= 10:\n",
    "        print(f'Россия на {place_russia} месте!!! Гордимся!!!')\n",
    "    else:\n",
    "        print(f'Россия на {place_russia} месте(( Нужно больше работать в этом направлении!')"
   ]
  },
  {
   "cell_type": "markdown",
   "metadata": {},
   "source": [
    "**Обязательно нужно узнать на каком месте Россия!!!!!**"
   ]
  },
  {
   "cell_type": "code",
   "execution_count": null,
   "metadata": {},
   "outputs": [],
   "source": [
    "place_russia = top_pure[top_pure['country'] == 'Russian Federation'].index[0] + 1\n",
    "place(place_russia)"
   ]
  },
  {
   "cell_type": "code",
   "execution_count": null,
   "metadata": {},
   "outputs": [],
   "source": [
    "fig = px.choropleth(\n",
    "    df_alcohol,\n",
    "    locations=\"country\",\n",
    "    locationmode=\"country names\",\n",
    "    color=\"total_litres_of_pure_alcohol\",\n",
    "    color_continuous_scale=\"Blues\",\n",
    "    labels={\"total_litres_of_pure_alcohol\": \"Литры чистого спирта\"},\n",
    "    width=1000, \n",
    "    height=600,  \n",
    ")\n",
    "\n",
    "fig.update_layout(\n",
    "    title=\"Распределение потребления чистого спирта на душу населения\",\n",
    "    title_x = 0.5,\n",
    ")\n",
    "\n",
    "# Show the map\n",
    "fig.show()"
   ]
  },
  {
   "cell_type": "markdown",
   "metadata": {},
   "source": [
    "#### Топ-10 стран по среднегодовому употреблению условных порций пива на душу населения "
   ]
  },
  {
   "cell_type": "code",
   "execution_count": null,
   "metadata": {},
   "outputs": [],
   "source": [
    "top_beer = df_alcohol[['country', 'beer_servings', 'share_beer_servings, %']] \\\n",
    "    .sort_values(by='beer_servings', ascending=False) \\\n",
    "    .reset_index(drop=True)\n",
    "top_beer.head(10)"
   ]
  },
  {
   "cell_type": "code",
   "execution_count": null,
   "metadata": {},
   "outputs": [],
   "source": [
    "place_russia = top_beer[top_beer['country'] == 'Russian Federation'].index[0] + 1\n",
    "place(place_russia)"
   ]
  },
  {
   "cell_type": "code",
   "execution_count": null,
   "metadata": {},
   "outputs": [],
   "source": [
    "fig = px.choropleth(\n",
    "    df_alcohol,\n",
    "    locations=\"country\",\n",
    "    locationmode=\"country names\",\n",
    "    color=\"beer_servings\",\n",
    "    color_continuous_scale=\"Oranges\",\n",
    "    labels={\"beer_servings\": \"Порций\"},\n",
    "    width=1000,  \n",
    "    height=600,  \n",
    ")\n",
    "\n",
    "fig.update_layout(\n",
    "    title=\"Среднегодовое потребление пива в порциях на душу населения по странам\",\n",
    "    title_x = 0.5,\n",
    ")\n",
    "\n",
    "# Show the map\n",
    "fig.show()"
   ]
  },
  {
   "cell_type": "markdown",
   "metadata": {},
   "source": [
    "#### Топ-10 стран по среднегодовому употреблению условных порций крепкого алкоголя на душу населения "
   ]
  },
  {
   "cell_type": "code",
   "execution_count": null,
   "metadata": {},
   "outputs": [],
   "source": [
    "top_spirit = df_alcohol[['country', 'spirit_servings', 'share_spirit_servings, %']] \\\n",
    "    .sort_values(by='spirit_servings', ascending=False) \\\n",
    "    .reset_index(drop=True)\n",
    "top_spirit.head(10)"
   ]
  },
  {
   "cell_type": "code",
   "execution_count": null,
   "metadata": {},
   "outputs": [],
   "source": [
    "place_russia = top_spirit[top_spirit['country'] == 'Russian Federation'].index[0] + 1\n",
    "place(place_russia)"
   ]
  },
  {
   "cell_type": "code",
   "execution_count": null,
   "metadata": {},
   "outputs": [],
   "source": [
    "fig = px.choropleth(\n",
    "    df_alcohol,\n",
    "    locations=\"country\",\n",
    "    locationmode=\"country names\",\n",
    "    color=\"spirit_servings\",\n",
    "    color_continuous_scale=\"Reds\",\n",
    "    labels={\"spirit_servings\": \"Порций\"},\n",
    "    width=1000,  \n",
    "    height=600, \n",
    ")\n",
    "\n",
    "fig.update_layout(\n",
    "    title=\"Среднегодовое потребление крепкого алкоголя в порциях на душу населения по странам\",\n",
    "    title_x = 0.5,\n",
    ")\n",
    "\n",
    "# Show the map\n",
    "fig.show()"
   ]
  },
  {
   "cell_type": "markdown",
   "metadata": {},
   "source": [
    "#### Топ-10 стран по среднегодовому употреблению условных порций вина на душу населения "
   ]
  },
  {
   "cell_type": "code",
   "execution_count": null,
   "metadata": {},
   "outputs": [],
   "source": [
    "top_wine = df_alcohol[['country', 'wine_servings', 'share_wine_servings, %']] \\\n",
    "    .sort_values(by='wine_servings', ascending=False) \\\n",
    "    .reset_index(drop=True)\n",
    "top_wine.head(10)"
   ]
  },
  {
   "cell_type": "code",
   "execution_count": null,
   "metadata": {},
   "outputs": [],
   "source": [
    "place_russia = top_wine[top_wine['country'] == 'Russian Federation'].index[0] + 1\n",
    "place(place_russia)"
   ]
  },
  {
   "cell_type": "code",
   "execution_count": null,
   "metadata": {},
   "outputs": [],
   "source": [
    "fig = px.choropleth(\n",
    "    df_alcohol,\n",
    "    locations=\"country\",\n",
    "    locationmode=\"country names\",\n",
    "    color=\"wine_servings\",\n",
    "    color_continuous_scale=\"Purples\",\n",
    "    labels={\"wine_servings\": \"Порций\"},\n",
    "    width=1000,  \n",
    "    height=600,  \n",
    ")\n",
    "\n",
    "fig.update_layout(\n",
    "    title=\"Среднегодовое потребление вина в порциях на душу населения по странам\",\n",
    "    title_x = 0.5,\n",
    ")\n",
    "\n",
    "# Show the map\n",
    "fig.show()"
   ]
  },
  {
   "cell_type": "code",
   "execution_count": null,
   "metadata": {},
   "outputs": [],
   "source": [
    "fig, axes = plt.subplots(2,2, figsize = (15,7))\n",
    "\n",
    "axes[0, 0].hist(df_alcohol['beer_servings'], bins=20, color='yellow', alpha=0.7)\n",
    "axes[0, 0].set_title(\n",
    "    'Распределение потребления условных порций пива на душу населения',\n",
    "    fontdict = {'fontsize': 10} )\n",
    "\n",
    "axes[0, 1].hist(df_alcohol['wine_servings'], bins=20, color='purple', alpha=0.7)\n",
    "axes[0, 1].set_title(\n",
    "    'Распределение потребления условных порций вина на душу населения',\n",
    "    fontdict = {'fontsize': 10} )\n",
    "\n",
    "axes[1, 0].hist(df_alcohol['spirit_servings'], bins=20, color='red', alpha=0.7)\n",
    "axes[1, 0].set_title(\n",
    "    'Распределение потребления условных порций крепкого алкоголя на душу населения',\n",
    "    fontdict = {'fontsize': 10})\n",
    "\n",
    "axes[1, 1].hist(df_alcohol['total_litres_of_pure_alcohol'], bins=20, color='blue', alpha=0.7)\n",
    "axes[1, 1].set_title(\n",
    "    'Распределение потребления литров чистого спирта на душу населения',\n",
    "    fontdict = {'fontsize': 10});"
   ]
  },
  {
   "cell_type": "code",
   "execution_count": null,
   "metadata": {},
   "outputs": [],
   "source": [
    "plt.figure(figsize=(10, 6))\n",
    "plt.boxplot(df_alcohol[['beer_servings','wine_servings', 'spirit_servings']].values, \n",
    "            labels=df_alcohol[['beer_servings','wine_servings', 'spirit_servings']].columns)\n",
    "plt.ylabel('Условных порций на душу населения')\n",
    "plt.grid(axis='y')\n",
    "plt.show()"
   ]
  },
  {
   "cell_type": "code",
   "execution_count": null,
   "metadata": {},
   "outputs": [],
   "source": [
    "plt.figure(figsize=(10, 6))\n",
    "plt.boxplot(df_alcohol[['total_litres_of_pure_alcohol']].values, \n",
    "            labels=df_alcohol[['total_litres_of_pure_alcohol']].columns)\n",
    "plt.ylabel('Литров на душу населения')\n",
    "plt.grid(axis='y')\n",
    "plt.show()\n"
   ]
  },
  {
   "cell_type": "markdown",
   "metadata": {},
   "source": [
    "<h1>Задание 3</h1> \n",
    "\n",
    "У нас есть полный каталог всех случаев, когда кто-то проклинал или истекал кровью в фильме Квентина Тарантино. https://github.com/fivethirtyeight/data/tree/master/tarantino\n",
    "\n",
    "Определите:\n",
    "\n",
    "* число проклятий, летальных исходов и их соотношение по фильмам \n",
    "\n",
    "* частоту употребления конкретных проклятий \n",
    "\n",
    "* распределение времени между проклятиями "
   ]
  },
  {
   "cell_type": "code",
   "execution_count": null,
   "metadata": {},
   "outputs": [],
   "source": [
    "data_tarantino = pd.read_csv(\"tarantino.csv\")\n",
    "df_tarantino = data_tarantino.copy()"
   ]
  },
  {
   "cell_type": "code",
   "execution_count": null,
   "metadata": {},
   "outputs": [],
   "source": [
    "data_tarantino.head(5)"
   ]
  },
  {
   "cell_type": "code",
   "execution_count": null,
   "metadata": {},
   "outputs": [],
   "source": [
    "df_tarantino.info()"
   ]
  },
  {
   "cell_type": "code",
   "execution_count": null,
   "metadata": {},
   "outputs": [],
   "source": [
    "df_tarantino['word'].isna().sum()"
   ]
  },
  {
   "cell_type": "code",
   "execution_count": null,
   "metadata": {},
   "outputs": [],
   "source": [
    "df_tarantino[df_tarantino['word'].isna()]"
   ]
  },
  {
   "cell_type": "code",
   "execution_count": null,
   "metadata": {},
   "outputs": [],
   "source": [
    "df_tarantino.describe(include = ['object'])"
   ]
  },
  {
   "cell_type": "code",
   "execution_count": null,
   "metadata": {},
   "outputs": [],
   "source": [
    "df_tarantino['type'].unique()"
   ]
  },
  {
   "cell_type": "code",
   "execution_count": null,
   "metadata": {},
   "outputs": [],
   "source": [
    "df_tarantino['word'].unique()"
   ]
  },
  {
   "cell_type": "code",
   "execution_count": null,
   "metadata": {},
   "outputs": [],
   "source": [
    "death_word_ratio = pd.crosstab(df_tarantino['movie'], df_tarantino['type']).reset_index()\n",
    "death_word_ratio['word_death_ratio'] = death_word_ratio['word'] / death_word_ratio['death']\n",
    "death_word_ratio"
   ]
  },
  {
   "cell_type": "code",
   "execution_count": null,
   "metadata": {
    "scrolled": true
   },
   "outputs": [],
   "source": [
    "word_counter = df_tarantino[df_tarantino['type'] == 'word']['word'].value_counts().reset_index()\n",
    "word_counter['%'] = word_counter['count'] / word_counter['count'].sum()\n",
    "word_counter"
   ]
  },
  {
   "cell_type": "code",
   "execution_count": null,
   "metadata": {},
   "outputs": [],
   "source": [
    "df_tarantino['word_time_diff'] = (\n",
    "    df_tarantino\n",
    "    .sort_values(by=['movie', 'minutes_in']) \n",
    "    .groupby('movie')['minutes_in']          \n",
    "    .diff()\n",
    ")"
   ]
  },
  {
   "cell_type": "code",
   "execution_count": null,
   "metadata": {},
   "outputs": [],
   "source": [
    "df_tarantino['word_time_diff'].min()"
   ]
  },
  {
   "cell_type": "code",
   "execution_count": null,
   "metadata": {},
   "outputs": [],
   "source": [
    "fig = px.histogram(\n",
    "    df_tarantino,\n",
    "    x = 'word_time_diff',\n",
    "    nbins = 50\n",
    ")\n",
    "\n",
    "fig.update_traces(\n",
    "    xbins=dict(\n",
    "        start=0,  # Начинаем с 0\n",
    "        end=df_tarantino['word_time_diff'].max(),  # Конец биннинга\n",
    "        size=0.05  # Размер одного бина\n",
    "    )\n",
    ")\n",
    "\n",
    "fig.update_layout(\n",
    "    xaxis=dict(range=[0, df_tarantino['word_time_diff'].max()]),\n",
    "    title = 'Распределение времени между проклятиями ',\n",
    "    title_x = 0.5,\n",
    "    width=1000, \n",
    "    height=400\n",
    ")"
   ]
  },
  {
   "cell_type": "markdown",
   "metadata": {},
   "source": [
    "Видим, что у нас есть много выбросов. Давайте уберем их с помощью IQR"
   ]
  },
  {
   "cell_type": "code",
   "execution_count": null,
   "metadata": {},
   "outputs": [],
   "source": [
    "Q1 = df_tarantino['word_time_diff'].quantile(0.25)\n",
    "Q3 = df_tarantino['word_time_diff'].quantile(0.75) \n",
    "IQR = Q3 - Q1\n",
    "df_no_outliers = df_tarantino[\n",
    "    (df_tarantino['word_time_diff'] >= Q1 - 1.5 * IQR) &\n",
    "    (df_tarantino['word_time_diff'] <= Q3 + 1.5 * IQR)\n",
    "]"
   ]
  },
  {
   "cell_type": "code",
   "execution_count": null,
   "metadata": {},
   "outputs": [],
   "source": [
    "fig = px.histogram(\n",
    "    df_no_outliers,\n",
    "    x = 'word_time_diff',\n",
    "    nbins = 50\n",
    ")\n",
    "\n",
    "fig.update_traces(\n",
    "    xbins=dict(\n",
    "        start=0, \n",
    "        end=df_no_outliers['word_time_diff'].max(),  \n",
    "        size=0.05 \n",
    "    )\n",
    ")\n",
    "\n",
    "fig.update_layout(\n",
    "    xaxis=dict(range=[0, df_no_outliers['word_time_diff'].max()]),\n",
    "    title = 'Распределение времени между проклятиями ',\n",
    "    title_x = 0.5,\n",
    "    width=1000, \n",
    "    height=400\n",
    ")"
   ]
  }
 ],
 "metadata": {
  "kernelspec": {
   "display_name": "Python 3 (ipykernel)",
   "language": "python",
   "name": "python3"
  },
  "language_info": {
   "codemirror_mode": {
    "name": "ipython",
    "version": 3
   },
   "file_extension": ".py",
   "mimetype": "text/x-python",
   "name": "python",
   "nbconvert_exporter": "python",
   "pygments_lexer": "ipython3",
   "version": "3.11.7"
  }
 },
 "nbformat": 4,
 "nbformat_minor": 4
}
