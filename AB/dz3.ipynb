{
 "cells": [
  {
   "cell_type": "code",
   "execution_count": 2,
   "id": "9989759a-93f1-4b5b-b960-2bd1dae4df0a",
   "metadata": {},
   "outputs": [],
   "source": [
    "import pandas as pd\n",
    "import numpy as np\n",
    "from scipy import stats\n",
    "import matplotlib.pyplot as plt"
   ]
  },
  {
   "cell_type": "code",
   "execution_count": 3,
   "id": "066a9265-3a6c-46d3-9264-08d1de5cebb5",
   "metadata": {},
   "outputs": [],
   "source": [
    "data = pd.read_csv('experiment_lesson_4.csv')"
   ]
  },
  {
   "cell_type": "code",
   "execution_count": 4,
   "id": "f5912b89-0b96-4514-b590-d1a45e34d03d",
   "metadata": {},
   "outputs": [],
   "source": [
    "df = data.copy()"
   ]
  },
  {
   "cell_type": "code",
   "execution_count": 5,
   "id": "2d4adc22-dd8a-4889-9055-420a6c773a81",
   "metadata": {},
   "outputs": [
    {
     "data": {
      "text/html": [
       "<div>\n",
       "<style scoped>\n",
       "    .dataframe tbody tr th:only-of-type {\n",
       "        vertical-align: middle;\n",
       "    }\n",
       "\n",
       "    .dataframe tbody tr th {\n",
       "        vertical-align: top;\n",
       "    }\n",
       "\n",
       "    .dataframe thead th {\n",
       "        text-align: right;\n",
       "    }\n",
       "</style>\n",
       "<table border=\"1\" class=\"dataframe\">\n",
       "  <thead>\n",
       "    <tr style=\"text-align: right;\">\n",
       "      <th></th>\n",
       "      <th>order_id</th>\n",
       "      <th>delivery_time</th>\n",
       "      <th>district</th>\n",
       "      <th>experiment_group</th>\n",
       "    </tr>\n",
       "  </thead>\n",
       "  <tbody>\n",
       "    <tr>\n",
       "      <th>0</th>\n",
       "      <td>3159</td>\n",
       "      <td>44.0</td>\n",
       "      <td>Purlieus</td>\n",
       "      <td>control</td>\n",
       "    </tr>\n",
       "    <tr>\n",
       "      <th>1</th>\n",
       "      <td>10426</td>\n",
       "      <td>51.0</td>\n",
       "      <td>Purlieus</td>\n",
       "      <td>control</td>\n",
       "    </tr>\n",
       "    <tr>\n",
       "      <th>2</th>\n",
       "      <td>9155</td>\n",
       "      <td>46.0</td>\n",
       "      <td>Purlieus</td>\n",
       "      <td>control</td>\n",
       "    </tr>\n",
       "    <tr>\n",
       "      <th>3</th>\n",
       "      <td>10699</td>\n",
       "      <td>34.0</td>\n",
       "      <td>Purlieus</td>\n",
       "      <td>control</td>\n",
       "    </tr>\n",
       "    <tr>\n",
       "      <th>4</th>\n",
       "      <td>10061</td>\n",
       "      <td>43.0</td>\n",
       "      <td>Purlieus</td>\n",
       "      <td>control</td>\n",
       "    </tr>\n",
       "    <tr>\n",
       "      <th>...</th>\n",
       "      <td>...</td>\n",
       "      <td>...</td>\n",
       "      <td>...</td>\n",
       "      <td>...</td>\n",
       "    </tr>\n",
       "    <tr>\n",
       "      <th>20191</th>\n",
       "      <td>14561</td>\n",
       "      <td>42.0</td>\n",
       "      <td>Suburb</td>\n",
       "      <td>test</td>\n",
       "    </tr>\n",
       "    <tr>\n",
       "      <th>20192</th>\n",
       "      <td>12015</td>\n",
       "      <td>32.0</td>\n",
       "      <td>Suburb</td>\n",
       "      <td>test</td>\n",
       "    </tr>\n",
       "    <tr>\n",
       "      <th>20193</th>\n",
       "      <td>20077</td>\n",
       "      <td>23.0</td>\n",
       "      <td>Purlieus</td>\n",
       "      <td>test</td>\n",
       "    </tr>\n",
       "    <tr>\n",
       "      <th>20194</th>\n",
       "      <td>14861</td>\n",
       "      <td>41.0</td>\n",
       "      <td>Central</td>\n",
       "      <td>test</td>\n",
       "    </tr>\n",
       "    <tr>\n",
       "      <th>20195</th>\n",
       "      <td>13501</td>\n",
       "      <td>41.0</td>\n",
       "      <td>Central</td>\n",
       "      <td>test</td>\n",
       "    </tr>\n",
       "  </tbody>\n",
       "</table>\n",
       "<p>20196 rows × 4 columns</p>\n",
       "</div>"
      ],
      "text/plain": [
       "       order_id  delivery_time  district experiment_group\n",
       "0          3159           44.0  Purlieus          control\n",
       "1         10426           51.0  Purlieus          control\n",
       "2          9155           46.0  Purlieus          control\n",
       "3         10699           34.0  Purlieus          control\n",
       "4         10061           43.0  Purlieus          control\n",
       "...         ...            ...       ...              ...\n",
       "20191     14561           42.0    Suburb             test\n",
       "20192     12015           32.0    Suburb             test\n",
       "20193     20077           23.0  Purlieus             test\n",
       "20194     14861           41.0   Central             test\n",
       "20195     13501           41.0   Central             test\n",
       "\n",
       "[20196 rows x 4 columns]"
      ]
     },
     "execution_count": 5,
     "metadata": {},
     "output_type": "execute_result"
    }
   ],
   "source": [
    "df"
   ]
  },
  {
   "cell_type": "code",
   "execution_count": 6,
   "id": "5cc50c1f-dcfc-4dae-ad57-6e26c2ed96f6",
   "metadata": {},
   "outputs": [
    {
     "name": "stdout",
     "output_type": "stream",
     "text": [
      "<class 'pandas.core.frame.DataFrame'>\n",
      "RangeIndex: 20196 entries, 0 to 20195\n",
      "Data columns (total 4 columns):\n",
      " #   Column            Non-Null Count  Dtype  \n",
      "---  ------            --------------  -----  \n",
      " 0   order_id          20196 non-null  int64  \n",
      " 1   delivery_time     20196 non-null  float64\n",
      " 2   district          20196 non-null  object \n",
      " 3   experiment_group  20196 non-null  object \n",
      "dtypes: float64(1), int64(1), object(2)\n",
      "memory usage: 631.3+ KB\n"
     ]
    }
   ],
   "source": [
    "df.info()"
   ]
  },
  {
   "cell_type": "code",
   "execution_count": 7,
   "id": "1c1d618d-cec5-41d2-bbbf-e8f4c4cfc837",
   "metadata": {},
   "outputs": [
    {
     "data": {
      "text/plain": [
       "order_id            0\n",
       "delivery_time       0\n",
       "district            0\n",
       "experiment_group    0\n",
       "dtype: int64"
      ]
     },
     "execution_count": 7,
     "metadata": {},
     "output_type": "execute_result"
    }
   ],
   "source": [
    "df.isnull().sum()"
   ]
  },
  {
   "cell_type": "code",
   "execution_count": 8,
   "id": "70eae0e0-f722-4be2-aab4-616d52250c93",
   "metadata": {},
   "outputs": [
    {
     "data": {
      "text/plain": [
       "Text(0.5, 1.0, 'Распределение времени доставки в тестовой группе')"
      ]
     },
     "execution_count": 8,
     "metadata": {},
     "output_type": "execute_result"
    },
    {
     "data": {
      "image/png": "[encoded data removed]",
      "text/plain": [
       "<Figure size 1200x400 with 2 Axes>"
      ]
     },
     "metadata": {},
     "output_type": "display_data"
    }
   ],
   "source": [
    "fig, axes = plt.subplots(1,2, figsize = (12,4))\n",
    "axes[0].hist(df[df['experiment_group'] == 'control']['delivery_time'])\n",
    "axes[0].set_title('Распределение времени доставки в контрольной группе')\n",
    "\n",
    "axes[1].hist(df[df['experiment_group'] == 'test']['delivery_time'])\n",
    "axes[1].set_title('Распределение времени доставки в тестовой группе')"
   ]
  },
  {
   "cell_type": "code",
   "execution_count": 9,
   "id": "0f91b029-7b9d-48a5-8884-6bb1936f7ab0",
   "metadata": {},
   "outputs": [
    {
     "data": {
      "text/plain": [
       "12"
      ]
     },
     "execution_count": 9,
     "metadata": {},
     "output_type": "execute_result"
    }
   ],
   "source": [
    "control = np.array(df[df['experiment_group'] == 'control']['delivery_time'])\n",
    "test = np.array(df[df['experiment_group'] == 'test']['delivery_time'])\n",
    "abs(len(control) - len(test))"
   ]
  },
  {
   "cell_type": "code",
   "execution_count": 10,
   "id": "547cae44-c812-4960-86e8-3181fba50369",
   "metadata": {},
   "outputs": [
    {
     "data": {
      "text/plain": [
       "NormaltestResult(statistic=0.25349755437872584, pvalue=0.8809549607809654)"
      ]
     },
     "execution_count": 10,
     "metadata": {},
     "output_type": "execute_result"
    }
   ],
   "source": [
    "stats.normaltest(control)"
   ]
  },
  {
   "cell_type": "markdown",
   "id": "f9e1ab26-3d15-4ca9-958e-dd2e4223fd96",
   "metadata": {},
   "source": [
    "pval > 0.05 =>\n",
    "Время доставки в контрольной группе имеет нормальное распределение при уровне значимости 0.05"
   ]
  },
  {
   "cell_type": "code",
   "execution_count": 11,
   "id": "1c46d15c-44eb-4bd1-92a2-09c3d83646d1",
   "metadata": {},
   "outputs": [
    {
     "data": {
      "text/plain": [
       "NormaltestResult(statistic=7.024157092641915, pvalue=0.02983483685333173)"
      ]
     },
     "execution_count": 11,
     "metadata": {},
     "output_type": "execute_result"
    }
   ],
   "source": [
    "stats.normaltest(test)"
   ]
  },
  {
   "cell_type": "markdown",
   "id": "bd3e4f21-51a5-477c-a378-4b2966bb2654",
   "metadata": {},
   "source": [
    "pval < 0.05 => Время доставки в контрольной группе имеет распределение отличное от нормального при уровне значимости 0.05"
   ]
  },
  {
   "cell_type": "code",
   "execution_count": 12,
   "id": "9840a491-6cb7-4b85-9920-d3d9642ac6e1",
   "metadata": {},
   "outputs": [
    {
     "name": "stdout",
     "output_type": "stream",
     "text": [
      "Стандартное отклонение времени доставки в минутах в контрольной группе: 9.99\n",
      "Стандартное отклонение времени доставки в минутах в контрольной группе: 9.88\n"
     ]
    }
   ],
   "source": [
    "std_test = round(test.std(),2)\n",
    "std_control = round(control.std(),2)\n",
    "print(f'Стандартное отклонение времени доставки в минутах в контрольной группе: {std_control}\\nСтандартное отклонение времени доставки в минутах в контрольной группе: {std_test}')"
   ]
  },
  {
   "cell_type": "code",
   "execution_count": 13,
   "id": "e2a8a7b8-0729-4100-bb42-4c8438fe6eee",
   "metadata": {},
   "outputs": [
    {
     "data": {
      "text/plain": [
       "count    10092.000000\n",
       "mean        45.065101\n",
       "std          9.990017\n",
       "min         15.000000\n",
       "25%         38.000000\n",
       "50%         45.000000\n",
       "75%         52.000000\n",
       "max         83.000000\n",
       "Name: delivery_time, dtype: float64"
      ]
     },
     "execution_count": 13,
     "metadata": {},
     "output_type": "execute_result"
    }
   ],
   "source": [
    "df[df['experiment_group'] == 'control']['delivery_time'].describe()"
   ]
  },
  {
   "cell_type": "code",
   "execution_count": 14,
   "id": "ceab42ac-bdf0-414f-93c2-14323a6d41b8",
   "metadata": {},
   "outputs": [
    {
     "data": {
      "text/plain": [
       "count    10104.000000\n",
       "mean        39.046813\n",
       "std          9.883308\n",
       "min         10.000000\n",
       "25%         32.000000\n",
       "50%         39.000000\n",
       "75%         46.000000\n",
       "max         75.000000\n",
       "Name: delivery_time, dtype: float64"
      ]
     },
     "execution_count": 14,
     "metadata": {},
     "output_type": "execute_result"
    }
   ],
   "source": [
    "df[df['experiment_group'] == 'test']['delivery_time'].describe()"
   ]
  },
  {
   "cell_type": "markdown",
   "id": "a4bce25c-2477-4fc5-ac57-bcaa142829c2",
   "metadata": {},
   "source": [
    "Сформулируем нашу продуктовую гипотезу:\\\n",
    "Внедрение функции планирования последних заказов \"по пути\" для курьеров сократит среднее время доставки за счет оптимизации маршрутов"
   ]
  },
  {
   "cell_type": "markdown",
   "id": "39fce4ce-8488-405a-b498-06e0a4a1dd3c",
   "metadata": {},
   "source": [
    "Формализуем:\\\n",
    "H0: Mcontrol = Mtest \\\n",
    "H1: Mcontrol != Mtest \\\n",
    "alpha = 0.05 \\\n",
    "Юзаем двувыборочный t-test"
   ]
  },
  {
   "cell_type": "code",
   "execution_count": 19,
   "id": "cf986134-5b84-4106-8da3-663b91c1f8d1",
   "metadata": {},
   "outputs": [
    {
     "name": "stdout",
     "output_type": "stream",
     "text": [
      "Statistic:  -43.037683092455666 , p-value:  1.0\n"
     ]
    }
   ],
   "source": [
    "m = len(control)\n",
    "n = len(test)\n",
    "s2x = control.var()\n",
    "s2y = test.var()\n",
    "\n",
    "T = (test.mean() - control.mean())/(s2x/m + s2y/n)**0.5\n",
    "\n",
    "df = round( (s2x/m + s2y/n)**2 / ( (s2x/m)**2/(m-1) + (s2y/n)**2/(n-1) ))\n",
    "St = stats.t(df)\n",
    "\n",
    "P = 1 - St.cdf(T)\n",
    "print(\"Statistic: \",T,\", p-value: \",P)"
   ]
  },
  {
   "cell_type": "code",
   "execution_count": 20,
   "id": "ab3de73a-a37c-45e0-977d-bd26bf25583a",
   "metadata": {},
   "outputs": [
    {
     "name": "stdout",
     "output_type": "stream",
     "text": [
      "Среднее время доставки уменьшилось на 6.02, что составляет -13.35%\n"
     ]
    }
   ],
   "source": [
    "diff = test.mean() - control.mean()\n",
    "diff_perc = diff/control.mean() * 100\n",
    "print(f'Среднее время доставки уменьшилось на {abs(round(diff,2))}, что составляет {round(diff_perc,2)}%')"
   ]
  },
  {
   "cell_type": "markdown",
   "id": "0620fb47-962c-4356-8971-e059df46bc2a",
   "metadata": {},
   "source": [
    "В тестовой группе (где использовался новый алгоритм \"по пути\") среднее время доставки составило 39.05 минут, что на 6 минут меньше, чем в контрольной группе (45.07 минут).\n",
    "Статистический тест (t-тест) показал, что эта разница статистически значима (p-value = 0.0) при уровне значимости 0.05"
   ]
  },
  {
   "cell_type": "markdown",
   "id": "f541252f-7ced-427f-9dcd-23c60dd79be4",
   "metadata": {},
   "source": [
    "Курьеры, использующие новый алгоритм, доставляли пиццу в среднем на 6 минут (13,35%) быстрее, чем те, кто работает по старой системе.\\\n",
    "Результат теста говорит о том, что это улучшение — не случайность, а действительно связано с новым подходом. Это означает, что новая функция помогает курьерам быстрее доставлять заказы"
   ]
  }
 ],
 "metadata": {
  "kernelspec": {
   "display_name": "Python 3 (ipykernel)",
   "language": "python",
   "name": "python3"
  },
  "language_info": {
   "codemirror_mode": {
    "name": "ipython",
    "version": 3
   },
   "file_extension": ".py",
   "mimetype": "text/x-python",
   "name": "python",
   "nbconvert_exporter": "python",
   "pygments_lexer": "ipython3",
   "version": "3.11.7"
  }
 },
 "nbformat": 4,
 "nbformat_minor": 5
}
