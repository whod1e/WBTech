{
 "cells": [
  {
   "cell_type": "code",
   "execution_count": 2,
   "id": "51d3cce1-a39c-4a74-83e8-83c72cd34dcd",
   "metadata": {},
   "outputs": [],
   "source": [
    "import numpy as np\n",
    "from scipy import stats"
   ]
  },
  {
   "cell_type": "markdown",
   "id": "721eaa9d-6668-46ce-a83c-b9bfbc9f5ed0",
   "metadata": {},
   "source": [
    "1. Из партии батареек с номинальным напряжением 12 В наугад выбрано семь штук. Согласно показаниям высокоточного вольтметра, фактически выдаваемое ими напряжение составило: 12,9; 11,6; 13,5; 13,9; 12,1; 11,9; 13,0 В соответственно. Можно ли считать, что среднее напряжение действительно равно 12 В?"
   ]
  },
  {
   "cell_type": "markdown",
   "id": "d538f10d-ad3a-4b32-9a5e-10b58b7d028d",
   "metadata": {},
   "source": [
    "H0: x = 12 \\\n",
    "H1: x1 != 12 \n",
    "n = 7, юзаем двусторонний одновыборочный t-test \\\n",
    "alpha = 0,05"
   ]
  },
  {
   "cell_type": "code",
   "execution_count": 3,
   "id": "6b3e4f22-7080-4127-9526-c100a7429e25",
   "metadata": {},
   "outputs": [],
   "source": [
    "def check(alpha, pval):\n",
    "    print('p-value: ', pval)\n",
    "    if pval < alpha:\n",
    "        print('p-value < alpha, H0 отвергается')\n",
    "    else: \n",
    "        print('p-value > alpha, H0 не отвергается')"
   ]
  },
  {
   "cell_type": "code",
   "execution_count": 4,
   "id": "efc7c400-3186-4fcf-a757-f254d1bc7c81",
   "metadata": {},
   "outputs": [],
   "source": [
    "alpha = 0.05\n",
    "x0 = 12\n",
    "sample = np.array([12.9, 11.6, 13.5, 13.9, 12.1, 11.9, 13.0])"
   ]
  },
  {
   "cell_type": "code",
   "execution_count": 6,
   "id": "abd423ab-1e49-4569-9249-724dfc7579dd",
   "metadata": {},
   "outputs": [
    {
     "name": "stdout",
     "output_type": "stream",
     "text": [
      "p-value:  0.07430190210562304\n",
      "p-value > alpha, H0 не отвергается\n"
     ]
    }
   ],
   "source": [
    "pval = stats.ttest_1samp(sample, x0).pvalue\n",
    "check(alpha, pval)"
   ]
  },
  {
   "cell_type": "markdown",
   "id": "b8e7a105-b860-42f0-99e5-b8ac00724596",
   "metadata": {},
   "source": [
    "2. Есть два различных метода определения процентного содержания жира в мясе. Доля жира для 10 образцов мяса была определена каждым из двух методов. Позволяют ли полученные результаты сделать вывод о том, что один метод даёт в среднем более высокие показания, чем другой?\n",
    "    "
   ]
  },
  {
   "cell_type": "markdown",
   "id": "d454f9f2-79e7-49b3-b004-8bb7757839f6",
   "metadata": {},
   "source": [
    "d = x - y \\\n",
    "H0: md = 0 \\\n",
    "H1: md != 0 \\\n",
    "alpha = 0.05 \\\n",
    "Юзаем двувыборочный односторонний t-test для парных выборок"
   ]
  },
  {
   "cell_type": "code",
   "execution_count": 7,
   "id": "a36e40d8-a51f-407c-aadf-8962f6e625ae",
   "metadata": {},
   "outputs": [],
   "source": [
    "x = np.array([23.1, 23.2, 26.5, 26.6, 27.1, 48.3, 40.5, 25.0, 38.4, 23.5])\n",
    "y = np.array([22.7, 23.6, 27.1, 27.4, 27.4, 46.8, 40.4, 24.9, 38.1, 23.8])\n",
    "alpha = 0.05"
   ]
  },
  {
   "cell_type": "code",
   "execution_count": 8,
   "id": "3b08acfe-c90b-4c7c-8938-93adc3f34994",
   "metadata": {},
   "outputs": [
    {
     "name": "stdout",
     "output_type": "stream",
     "text": [
      "p-value:  0.9999999999999987\n",
      "p-value > alpha, H0 не отвергается\n"
     ]
    }
   ],
   "source": [
    "d = x - y\n",
    "pval = stats.ttest_1samp(d,0).pvalue\n",
    "check(alpha, pval)"
   ]
  },
  {
   "cell_type": "markdown",
   "id": "94451150-5ea3-415f-978f-9f91c3954a23",
   "metadata": {},
   "source": [
    "Статистически значимой разницы между показаниями двух методов нет"
   ]
  },
  {
   "cell_type": "markdown",
   "id": "cbff6321-ce8c-4586-9c1e-ad01ede7de0d",
   "metadata": {},
   "source": [
    "3. Для проверки гипотезы о том, что жители городов имеют в среднем более высокое систолическое артериальное давление, чем жители сельской местности, было проведено обследование 10 горожан и 9 жителей села примерно одного возраста. Получены следующие данные об уровне давления для горожан: 132, 111, 119, 138, 200, 131, 138, 170, 159, 140; для селян: 115, 190, 127, 155, 148, 121, 116, 121, 197. Можно ли считать верной выдвинутую гипотезу на уровне значимости 0,05?"
   ]
  },
  {
   "cell_type": "markdown",
   "id": "c050b254-34f6-4b01-aced-00b24ad833ca",
   "metadata": {},
   "source": [
    "H0: mx = my \\\n",
    "H1: mx > my \\\n",
    "alpha = 0.05 \\\n",
    "Юзаем двувыборочный односторонний t-test"
   ]
  },
  {
   "cell_type": "code",
   "execution_count": 9,
   "id": "829055d0-8597-4c5d-aec3-8c8468f805fa",
   "metadata": {},
   "outputs": [],
   "source": [
    "x = np.array([132, 111, 119, 138, 200, 131, 138, 170, 159, 140])\n",
    "y = np.array([115, 190, 127, 155, 148, 121, 116, 121, 197])\n",
    "alpha = 0.05"
   ]
  },
  {
   "cell_type": "code",
   "execution_count": 10,
   "id": "632cf93c-c513-4c4e-b844-42ef5059cd33",
   "metadata": {},
   "outputs": [
    {
     "name": "stdout",
     "output_type": "stream",
     "text": [
      "p-value:  0.4863422498708747\n",
      "p-value > alpha, H0 не отвергается\n"
     ]
    }
   ],
   "source": [
    "pval = stats.ttest_ind(x,y, equal_var = False).pvalue/2\n",
    "check(alpha,pval)"
   ]
  },
  {
   "cell_type": "markdown",
   "id": "749745c9-a864-41f0-8c79-5f1be94e9473",
   "metadata": {},
   "source": [
    "Статистически значимой разницы между систолическим артериальным давлением жителей городов и сельской местности нет"
   ]
  },
  {
   "cell_type": "markdown",
   "id": "0f866ad6-c85a-4d80-b85a-54e2e819e49d",
   "metadata": {},
   "source": [
    "Известно, что 52% новорождённых детей — мальчики, а 48% — девочки. В случайной выборке из 5 000 человек в возрасте от 30 до 60 лет мужчин оказалось 2 500. Можно ли на уровне значимости 0,05 считать, основываясь на этих данных, что смертность среди мужчин и женщин одинакова?"
   ]
  },
  {
   "cell_type": "markdown",
   "id": "e647b1cd-bfd6-45ab-a36a-368f335b5159",
   "metadata": {},
   "source": [
    "H0: p = 0,52 (смертность одинакова, доля мужчин не изменилась)\\\n",
    "H1: p != 0,52 (смертность различается, доля мужчин изменилась)\\\n",
    "alpha = 0.05"
   ]
  },
  {
   "cell_type": "code",
   "execution_count": 11,
   "id": "bc7b2af2-6c80-4231-a37f-8d7c8eda3a8c",
   "metadata": {},
   "outputs": [],
   "source": [
    "p0 = 0.52 \n",
    "n = 5000\n",
    "m = 2500    \n",
    "alpha = 0.05"
   ]
  },
  {
   "cell_type": "code",
   "execution_count": 12,
   "id": "d9a9630a-8d18-4921-ab0d-dc653fbf51e3",
   "metadata": {},
   "outputs": [
    {
     "name": "stdout",
     "output_type": "stream",
     "text": [
      "p-value:  0.0048495021595452836\n",
      "p-value < alpha, H0 отвергается\n"
     ]
    }
   ],
   "source": [
    "pval = stats.binomtest(k=m, n=n, p=p0, alternative='two-sided').pvalue\n",
    "check(alpha, pval)"
   ]
  },
  {
   "cell_type": "markdown",
   "id": "05f7a475-72d7-435c-b1ee-4ccda6c1665c",
   "metadata": {},
   "source": [
    "Имеется статистическая значимость между смертностью мужчин и женщин"
   ]
  },
  {
   "cell_type": "markdown",
   "id": "869cded7-83d6-4fe5-a4c2-c449c1dcef8c",
   "metadata": {},
   "source": [
    "5. В первом эксперименте для сравнения двух средних X1=17, X2=16 применялся t-критерий Стьюдента, и эти различия оказались значимы (p = 0, 001).\n",
    "Во втором исследовании, также при помощи t - критерия, сравнивались два средних X1=17, X2=36, и эти различия не значимы при p = 0,8. В чем может быть причина таких результатов, при условии, что нулевая и альтернативная гипотезы в обоих случаях одинаковы?"
   ]
  },
  {
   "cell_type": "markdown",
   "id": "c7065d3c-c829-446e-86f4-d2500ef7b7dc",
   "metadata": {},
   "source": [
    "В первом случае, даже при небольшой разнице средних (17 и 16), выборки могли быть достаточно большими и иметь относительно малую дисперсию, что привело к малой стандартной ошибке оценки среднего и, как следствие, к низкому p-значению.\n",
    "\n",
    "Во втором случае, несмотря на гораздо более существенную разницу средних (17 и 36), выборки могли быть очень маленькими или иметь большую дисперсию. Из-за этого стандартная ошибка становится велика, и стат критерий не видит значимой разницы."
   ]
  }
 ],
 "metadata": {
  "kernelspec": {
   "display_name": "Python 3 (ipykernel)",
   "language": "python",
   "name": "python3"
  },
  "language_info": {
   "codemirror_mode": {
    "name": "ipython",
    "version": 3
   },
   "file_extension": ".py",
   "mimetype": "text/x-python",
   "name": "python",
   "nbconvert_exporter": "python",
   "pygments_lexer": "ipython3",
   "version": "3.11.7"
  }
 },
 "nbformat": 4,
 "nbformat_minor": 5
}
